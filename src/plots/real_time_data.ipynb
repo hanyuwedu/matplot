{
 "cells": [
  {
   "cell_type": "code",
   "execution_count": 32,
   "id": "0df2df76-843b-451e-82ea-b275791626f4",
   "metadata": {},
   "outputs": [],
   "source": [
    "## introducing animation from matplotlib\n",
    "## Seems not compatible with python notebook\n",
    "\n",
    "## matplotlib.animation.FuncAnimation 方法。详细操作请浏览文档\n",
    "## 用来做趋势的演化非常合适，比如下面的斐波那契数列\n",
    "## 很遗憾在python notebook中无法直接呈现。可以在python IDE中查看结果"
   ]
  },
  {
   "cell_type": "code",
   "execution_count": 33,
   "id": "837f1b42-6a6b-42cb-a307-9af698f70feb",
   "metadata": {},
   "outputs": [],
   "source": [
    "from matplotlib import pyplot as plt\n",
    "import numpy as np\n",
    "import pandas as pd\n",
    "\n",
    "from matplotlib.animation import FuncAnimation"
   ]
  },
  {
   "cell_type": "code",
   "execution_count": 34,
   "id": "e4db1048-f710-4a19-9f7a-18a66f601a38",
   "metadata": {},
   "outputs": [
    {
     "name": "stderr",
     "output_type": "stream",
     "text": [
      "C:\\Users\\c-y-b\\AppData\\Local\\Temp\\ipykernel_3692\\584545215.py:17: UserWarning: frames=None which we can infer the length of, did not pass an explicit *save_count* and passed cache_frame_data=True.  To avoid a possibly unbounded cache, frame data caching has been disabled. To suppress this warning either pass `cache_frame_data=False` or `save_count=MAX_FRAMES`.\n",
      "  ani = FuncAnimation(plt.gcf(), animate, interval = 1000)\n",
      "C:\\Program Files\\Python39\\lib\\site-packages\\matplotlib\\animation.py:892: UserWarning: Animation was deleted without rendering anything. This is most likely not intended. To prevent deletion, assign the Animation to a variable, e.g. `anim`, that exists until you output the Animation using `plt.show()` or `anim.save()`.\n",
      "  warnings.warn(\n"
     ]
    },
    {
     "data": {
      "text/plain": [
       "<Figure size 640x480 with 0 Axes>"
      ]
     },
     "metadata": {},
     "output_type": "display_data"
    }
   ],
   "source": [
    "from itertools import count\n",
    "import random\n",
    "\n",
    "plt.style.use('fivethirtyeight')\n",
    "\n",
    "x_vals = []\n",
    "y_vals = []\n",
    "\n",
    "index = count()\n",
    "\n",
    "def animate(i):\n",
    "    x_vals.append(next(index))\n",
    "    y_vals.append(random.randint(0, 5))\n",
    "\n",
    "    plt.plot(x_vals, y_vals)\n",
    "\n",
    "ani = FuncAnimation(plt.gcf(), animate, interval = 1000)\n",
    "\n",
    "plt.tight_layout()\n",
    "plt.show()\n",
    "### didn't figure out how to save, it seems that plt.savefig() will only save empty fig."
   ]
  },
  {
   "cell_type": "code",
   "execution_count": 3,
   "id": "45b32cd7-a15c-4262-bdd6-314d8164b1f6",
   "metadata": {},
   "outputs": [],
   "source": [
    "def fibonacci_increment(series, fibonacci):\n",
    "    series.append(series[-1] + 1)\n",
    "    fibonacci.append(fibonacci[-1] + fibonacci[-2])"
   ]
  },
  {
   "cell_type": "code",
   "execution_count": 12,
   "id": "a46e2bb4-117e-4d4f-a956-e04830e94d7e",
   "metadata": {},
   "outputs": [
    {
     "name": "stdout",
     "output_type": "stream",
     "text": [
      "[0, 1, 2, 3, 4, 5, 6, 7, 8, 9, 10]\n",
      "[1, 1, 2, 3, 5, 8, 13, 21, 34, 55, 89]\n"
     ]
    }
   ],
   "source": [
    "series = [0, 1]\n",
    "fibonacci = [1, 1]\n",
    "\n",
    "for i in range(1, 10):\n",
    "    fibonacci_increment(series, fibonacci)\n",
    "\n",
    "print(series)\n",
    "print(fibonacci)"
   ]
  },
  {
   "cell_type": "code",
   "execution_count": 21,
   "id": "46eb65bb-298f-471c-bce2-a9d603568eaf",
   "metadata": {},
   "outputs": [
    {
     "name": "stdout",
     "output_type": "stream",
     "text": [
      "[0, 1, 2]\n",
      "[1, 1, 2]\n"
     ]
    },
    {
     "data": {
      "image/png": "[encoded data removed]",
      "text/plain": [
       "<Figure size 640x480 with 1 Axes>"
      ]
     },
     "metadata": {},
     "output_type": "display_data"
    }
   ],
   "source": [
    "series = [0, 1]\n",
    "fibonacci = [1, 1]\n",
    "\n",
    "def animate(i):   ## has to give an i as input\n",
    "    fibonacci_increment(series, fibonacci)\n",
    "    print(series)\n",
    "    print(fibonacci)\n",
    "    \n",
    "    # plt.cla()\n",
    "    plt.plot(series, fibonacci)\n",
    "\n",
    "ani = FuncAnimation(plt.gcf(), animate, interval = 500, save_count=20)\n",
    "plt.tight_layout()\n",
    "plt.show()"
   ]
  },
  {
   "cell_type": "code",
   "execution_count": null,
   "id": "8632eaed-cbb0-4c2b-9a32-e6bf57fd2da8",
   "metadata": {},
   "outputs": [],
   "source": []
  }
 ],
 "metadata": {
  "kernelspec": {
   "display_name": "Python 3 (ipykernel)",
   "language": "python",
   "name": "python3"
  },
  "language_info": {
   "codemirror_mode": {
    "name": "ipython",
    "version": 3
   },
   "file_extension": ".py",
   "mimetype": "text/x-python",
   "name": "python",
   "nbconvert_exporter": "python",
   "pygments_lexer": "ipython3",
   "version": "3.9.7"
  }
 },
 "nbformat": 4,
 "nbformat_minor": 5
}
